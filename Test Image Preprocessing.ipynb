{
 "cells": [
  {
   "cell_type": "code",
   "execution_count": 15,
   "id": "mobile-female",
   "metadata": {},
   "outputs": [],
   "source": [
    "# import pandas as pd\n",
    "# from os import listdir\n",
    "# from os.path import isfile, join\n",
    "\n",
    "# import matplotlib.pylab as plt\n",
    "# from matplotlib.patches import Rectangle\n",
    "import pydicom as pdm\n",
    "\n",
    "# import seaborn as sns\n",
    "\n",
    "# import cv2\n",
    "\n",
    "import keras_preprocessing.image as KPImage\n",
    "from PIL import Image\n",
    "\n",
    "# import numpy as np\n",
    "\n",
    "import os"
   ]
  },
  {
   "cell_type": "code",
   "execution_count": 2,
   "id": "starting-arrest",
   "metadata": {},
   "outputs": [],
   "source": [
    "import warnings\n",
    "warnings.filterwarnings('ignore')"
   ]
  },
  {
   "cell_type": "code",
   "execution_count": 3,
   "id": "forward-printer",
   "metadata": {},
   "outputs": [],
   "source": [
    "WORK_DIR = '/home/jupyter/home/task1_rsna_pneumonia/'"
   ]
  },
  {
   "cell_type": "code",
   "execution_count": 7,
   "id": "reasonable-withdrawal",
   "metadata": {},
   "outputs": [],
   "source": [
    "# extract files from ZIP_FILE to TARGET_DIR\n",
    "\n",
    "import zipfile\n",
    "\n",
    "ZIP_FILE = WORK_DIR + 'stage_2_test_images.zip'\n",
    "TARGET_DIR = WORK_DIR + 'test_data/'\n",
    "\n",
    "with zipfile.ZipFile(ZIP_FILE,\"r\") as zip_ref:\n",
    "    zip_ref.extractall(TARGET_DIR)"
   ]
  },
  {
   "cell_type": "code",
   "execution_count": 9,
   "id": "vital-morris",
   "metadata": {},
   "outputs": [],
   "source": [
    "TEST_IMG_DIR = WORK_DIR + 'test_data/'"
   ]
  },
  {
   "cell_type": "code",
   "execution_count": 10,
   "id": "governmental-blast",
   "metadata": {},
   "outputs": [],
   "source": [
    "# dicom file path --> dicom image array(scaled [0,1])\n",
    "\n",
    "def read_dicom_image(image_path):\n",
    "    img_arr = pdm.read_file(image_path).pixel_array\n",
    "    return img_arr/img_arr.max()"
   ]
  },
  {
   "cell_type": "code",
   "execution_count": 13,
   "id": "deadly-thanks",
   "metadata": {},
   "outputs": [],
   "source": [
    "class medical_pil():\n",
    "    \n",
    "    @staticmethod\n",
    "    def open(image_path):\n",
    "        if '.dcm' in image_path:\n",
    "            c_slice = read_dicom_image(image_path)\n",
    "            int_slice = (255*c_slice).clip(0,255).astype(np.uint8)        #clip limits values in the array\n",
    "            \n",
    "            return Image.fromarray(int_slice)\n",
    "        else:\n",
    "            return Image.open(image_path)\n",
    "        \n",
    "    fromarray = Image.fromarray           #Image.fromarray(IMAGE.pixel_array) --> 이미지 출력\n",
    "\n",
    "KPImage.pil_image = medical_pil          #KPImage.pil_image.fromarray(IMAGE.pixel_array) -> 이미지 출력"
   ]
  },
  {
   "cell_type": "code",
   "execution_count": 26,
   "id": "floral-pasta",
   "metadata": {},
   "outputs": [],
   "source": [
    "for path in os.listdir(TEST_IMG_DIR):\n",
    "    img = pdm.dcmread(TEST_IMG_DIR + path)\n",
    "    jpg_img = KPImage.pil_image.fromarray(img.pixel_array)\n",
    "    jpg_img_resized = jpg_img.resize((224,224), Image.ANTIALIAS)\n",
    "    \n",
    "    patient_id = path.split('/')[-1].split('.')[0]\n",
    "    \n",
    "    jpg_img_resized.save(WORK_DIR + 'resized_test_data/' + patient_id + '.jpg')"
   ]
  },
  {
   "cell_type": "code",
   "execution_count": 27,
   "id": "hidden-trouble",
   "metadata": {},
   "outputs": [
    {
     "data": {
      "text/plain": [
       "3000"
      ]
     },
     "execution_count": 27,
     "metadata": {},
     "output_type": "execute_result"
    }
   ],
   "source": [
    "# 만들어진 jpg 파일 개수 확인. len(os.listdir(TEST_IMG_DIR)) 개수와 같아야 함.(3000)\n",
    "\n",
    "import os\n",
    "\n",
    "path, dirs, files = next(os.walk(WORK_DIR + 'resized_test_data/'))\n",
    "file_count = len(files)\n",
    "file_count "
   ]
  },
  {
   "cell_type": "code",
   "execution_count": null,
   "id": "weekly-ministry",
   "metadata": {},
   "outputs": [],
   "source": []
  }
 ],
 "metadata": {
  "kernelspec": {
   "display_name": "Python 3",
   "language": "python",
   "name": "python3"
  },
  "language_info": {
   "codemirror_mode": {
    "name": "ipython",
    "version": 3
   },
   "file_extension": ".py",
   "mimetype": "text/x-python",
   "name": "python",
   "nbconvert_exporter": "python",
   "pygments_lexer": "ipython3",
   "version": "3.7.10"
  }
 },
 "nbformat": 4,
 "nbformat_minor": 5
}
